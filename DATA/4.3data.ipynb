{
 "cells": [
  {
   "cell_type": "code",
   "execution_count": 1,
   "metadata": {},
   "outputs": [],
   "source": [
    "import pyJHTDB\n",
    "import pyJHTDB.dbinfo\n",
    "import numpy as np\n",
    "import matplotlib.pyplot as plt\n",
    "import time"
   ]
  },
  {
   "cell_type": "markdown",
   "metadata": {},
   "source": [
    "### Data for 4.3\n",
    "We consider a larger domain covering half channel height in this test. We\n",
    "consider a subdomain at [12.47, 12.66] × [-1, -0.0031] × [4.61, 4.82] (about\n",
    "190 × 997 × 210 in wall-units) as the VP-NSFnet simulation domain; and the\n",
    "non-dimensional time domain is set as [0, 0.104] (17 time steps, 5.19 in wallunits). We place 100,000 points inside the domain and 26,048 points on the\n",
    "boundary sampled at each time step, and 147,968 points at the initial time step\n",
    "to determine the loss function. "
   ]
  },
  {
   "cell_type": "code",
   "execution_count": 2,
   "metadata": {},
   "outputs": [],
   "source": [
    "def get_data(point_coords, time):\n",
    "    \n",
    "    \"\"\"\n",
    "    Get velocity and pressure at specified spatial points and a specified time in channel flow database.\n",
    "    :param point_coords: Spatial coordinates of the data points of interest. Must be in single precision.\n",
    "    :param time: Time of interest.\n",
    "    :return: Velocity and velocity gradient arrays.\n",
    "    \"\"\"\n",
    "\n",
    "    # Create library object\n",
    "    lJHTDB = pyJHTDB.libJHTDB()\n",
    "\n",
    "    # Initialize library object\n",
    "    lJHTDB.initialize()\n",
    "\n",
    "    # Get velocity\n",
    "    u = lJHTDB.getData(time, point_coords,\n",
    "                       sinterp='Lag4',\n",
    "                       data_set='channel',\n",
    "                       getFunction='getVelocity')\n",
    "\n",
    "    # Get velocity gradient\n",
    "    p = lJHTDB.getData(time, point_coords,\n",
    "                            sinterp='Lag4',\n",
    "                            data_set='channel',\n",
    "                            getFunction='getPressure')\n",
    "\n",
    "    # Finalize library object\n",
    "    lJHTDB.finalize()\n",
    "\n",
    "    return u, p"
   ]
  },
  {
   "cell_type": "markdown",
   "metadata": {},
   "source": [
    "### Data for initial condition"
   ]
  },
  {
   "cell_type": "code",
   "execution_count": 3,
   "metadata": {},
   "outputs": [],
   "source": [
    "xnode = np.linspace(12.47,12.66,191)\n",
    "ynode = np.linspace(-1,-0.0031,998)\n",
    "znode = np.linspace(4.61,4.82,211)\n",
    "total_times = np.array(list(range(17)), dtype = np.float32) * 0.0065\n",
    "\n",
    "points = np.zeros((191, 998, 211, 3), np.float32)\n",
    "\n",
    "points[:, :, :, 0] = xnode[:, None, None]\n",
    "points[:, :, :, 1] = ynode[None, :, None]\n",
    "points[:, :, :, 2] = znode[None, None, :]\n"
   ]
  },
  {
   "cell_type": "code",
   "execution_count": 4,
   "metadata": {},
   "outputs": [
    {
     "data": {
      "text/plain": [
       "(40220398, 3)"
      ]
     },
     "execution_count": 4,
     "metadata": {},
     "output_type": "execute_result"
    }
   ],
   "source": [
    "points1 = points.reshape(-1,3)\n",
    "points1.shape"
   ]
  },
  {
   "cell_type": "code",
   "execution_count": 6,
   "metadata": {},
   "outputs": [],
   "source": [
    "ini_number = 147968 \n",
    "idx_ini = np.random.choice(points1.shape[0], ini_number, replace = False) \n",
    "train_ini1 = points1[idx_ini, :] \n",
    "train_iniv1 = np.zeros((ini_number, 3), np.float32) \n",
    "train_inip1 = np.zeros((ini_number, 1), np.float32) "
   ]
  },
  {
   "cell_type": "code",
   "execution_count": 8,
   "metadata": {},
   "outputs": [
    {
     "name": "stdout",
     "output_type": "stream",
     "text": [
      "Elapsed time 0 = 0.46 seconds\n",
      "Elapsed time 1 = 0.42 seconds\n",
      "Elapsed time 2 = 0.45 seconds\n",
      "Elapsed time 3 = 0.43 seconds\n",
      "Elapsed time 4 = 0.45 seconds\n",
      "Elapsed time 5 = 0.51 seconds\n",
      "Elapsed time 6 = 0.46 seconds\n",
      "Elapsed time 7 = 0.45 seconds\n",
      "Elapsed time 8 = 0.42 seconds\n",
      "Elapsed time 9 = 0.47 seconds\n",
      "Elapsed time 10 = 0.42 seconds\n",
      "Elapsed time 11 = 0.44 seconds\n",
      "Elapsed time 12 = 0.44 seconds\n",
      "Elapsed time 13 = 0.42 seconds\n",
      "Elapsed time 14 = 0.46 seconds\n",
      "Elapsed time 15 = 0.49 seconds\n",
      "Elapsed time 16 = 0.54 seconds\n",
      "Elapsed time 17 = 0.59 seconds\n",
      "Elapsed time 18 = 0.71 seconds\n",
      "Elapsed time 19 = 0.43 seconds\n",
      "Elapsed time 20 = 0.43 seconds\n",
      "Elapsed time 21 = 0.45 seconds\n",
      "Elapsed time 22 = 0.51 seconds\n",
      "Elapsed time 23 = 0.42 seconds\n",
      "Elapsed time 24 = 1.28 seconds\n",
      "Elapsed time 25 = 0.47 seconds\n",
      "Elapsed time 26 = 0.42 seconds\n",
      "Elapsed time 27 = 0.44 seconds\n",
      "Elapsed time 28 = 0.56 seconds\n",
      "Elapsed time 29 = 0.46 seconds\n",
      "Elapsed time 30 = 0.44 seconds\n",
      "Elapsed time 31 = 0.43 seconds\n",
      "Elapsed time 32 = 0.44 seconds\n",
      "Elapsed time 33 = 0.45 seconds\n",
      "Elapsed time 34 = 0.48 seconds\n",
      "Elapsed time 35 = 0.45 seconds\n",
      "Elapsed time 36 = 0.49 seconds\n",
      "Elapsed time 37 = 0.46 seconds\n",
      "Elapsed time 38 = 0.51 seconds\n",
      "Elapsed time 39 = 0.47 seconds\n",
      "Elapsed time 40 = 0.46 seconds\n",
      "Elapsed time 41 = 0.41 seconds\n",
      "Elapsed time 42 = 0.42 seconds\n",
      "Elapsed time 43 = 0.42 seconds\n",
      "Elapsed time 44 = 0.72 seconds\n",
      "Elapsed time 45 = 0.44 seconds\n",
      "Elapsed time 46 = 0.44 seconds\n",
      "Elapsed time 47 = 0.48 seconds\n",
      "Elapsed time 48 = 0.45 seconds\n",
      "Elapsed time 49 = 0.61 seconds\n",
      "Elapsed time 50 = 0.45 seconds\n",
      "Elapsed time 51 = 0.46 seconds\n",
      "Elapsed time 52 = 0.46 seconds\n",
      "Elapsed time 53 = 0.75 seconds\n",
      "Elapsed time 54 = 1.21 seconds\n",
      "Elapsed time 55 = 0.44 seconds\n",
      "Elapsed time 56 = 0.50 seconds\n",
      "Elapsed time 57 = 0.46 seconds\n",
      "Elapsed time 58 = 0.46 seconds\n",
      "Elapsed time 59 = 0.42 seconds\n",
      "Elapsed time 60 = 0.93 seconds\n",
      "Elapsed time 61 = 0.43 seconds\n",
      "Elapsed time 62 = 0.44 seconds\n",
      "Elapsed time 63 = 0.42 seconds\n",
      "Elapsed time 64 = 0.57 seconds\n",
      "Elapsed time 65 = 0.44 seconds\n",
      "Elapsed time 66 = 0.46 seconds\n",
      "Elapsed time 67 = 0.45 seconds\n",
      "(147968, 3) (147968, 1)\n"
     ]
    }
   ],
   "source": [
    "# 147968 points at the initial time step\n",
    "size = int(ini_number / 68)\n",
    "for i in range(68):\n",
    "    \n",
    "    start = time.time()  # start timer\n",
    "\n",
    "    train_iniv1[0 + size * i: size + size * i, :], train_inip1[0 + size * i: size + size * i, :] = get_data(train_ini1[0 + size * i: size + size * i, :], 0)\n",
    "\n",
    "    if i % 10 == 0:\n",
    "        print('Elapsed time %d = %.2f seconds' % (i, elapsed))\n",
    "        elapsed = time.time() - start  # end timer\n",
    "\n",
    "print(train_iniv1.shape, train_inip1.shape)"
   ]
  },
  {
   "cell_type": "code",
   "execution_count": 9,
   "metadata": {},
   "outputs": [],
   "source": [
    "# save the initial data as the npy\n",
    "np.save('train_ini2.npy',train_ini1)\n",
    "np.save('train_iniv2.npy',train_iniv1)\n",
    "np.save('train_inip2.npy',train_inip1)"
   ]
  },
  {
   "cell_type": "markdown",
   "metadata": {},
   "source": [
    "### Data for the boundary condition"
   ]
  },
  {
   "cell_type": "code",
   "execution_count": 10,
   "metadata": {},
   "outputs": [
    {
     "name": "stdout",
     "output_type": "stream",
     "text": [
      "(210578, 3) (210578, 3) (40301, 3) (40301, 3) (190618, 3) (190618, 3)\n"
     ]
    }
   ],
   "source": [
    "points2 = points1[:, :][points1[:,0] == 12.47]\n",
    "points3 = points1[:, :][points1[:,0] == 12.66]\n",
    "points4 = points1[:, :][points1[:,1] == -1.0]\n",
    "points5 = points1[:, :][points1[:,1] == -0.0031]\n",
    "points6 = points1[:, :][points1[:,2] == 4.61]\n",
    "points7 = points1[:, :][points1[:,2] == 4.82]\n",
    "print(points2.shape, points3.shape, points4.shape, points5.shape, points6.shape, points7.shape)"
   ]
  },
  {
   "cell_type": "code",
   "execution_count": 15,
   "metadata": {},
   "outputs": [
    {
     "data": {
      "text/plain": [
       "(882994, 3)"
      ]
     },
     "execution_count": 15,
     "metadata": {},
     "output_type": "execute_result"
    }
   ],
   "source": [
    "train_b1 = np.concatenate([points2, points3, points4, points5, points6, points7],0)\n",
    "train_b1.shape"
   ]
  },
  {
   "cell_type": "code",
   "execution_count": 16,
   "metadata": {},
   "outputs": [
    {
     "data": {
      "text/plain": [
       "(26048, 3)"
      ]
     },
     "execution_count": 16,
     "metadata": {},
     "output_type": "execute_result"
    }
   ],
   "source": [
    "# 26048 points on the boundary\n",
    "b_num = 26048\n",
    "idxb = np.random.choice(train_b1.shape[0], b_num, replace=False)\n",
    "train_b2 = train_b1[idxb,:]\n",
    "train_b2.shape"
   ]
  },
  {
   "cell_type": "code",
   "execution_count": 17,
   "metadata": {},
   "outputs": [],
   "source": [
    "train_xb1 = np.zeros((b_num*17, 4), np.float32)\n",
    "train_vb1 = np.zeros((b_num*17, 3), np.float32)\n",
    "train_pb1 = np.zeros((b_num*17, 1), np.float32)"
   ]
  },
  {
   "cell_type": "code",
   "execution_count": 19,
   "metadata": {},
   "outputs": [
    {
     "name": "stdout",
     "output_type": "stream",
     "text": [
      "t = 0.0\n",
      "t = 0.0065\n",
      "t = 0.013\n",
      "t = 0.0195\n",
      "t = 0.026\n",
      "t = 0.0325\n",
      "t = 0.039\n",
      "t = 0.045500003\n",
      "t = 0.052\n",
      "t = 0.0585\n",
      "t = 0.065\n",
      "t = 0.0715\n",
      "t = 0.078\n",
      "t = 0.0845\n",
      "t = 0.091000006\n",
      "t = 0.097500004\n",
      "t = 0.104\n"
     ]
    }
   ],
   "source": [
    "frames = np.arange(17)\n",
    "size = int(b_num / 8)\n",
    "# Get data\n",
    "for frame in frames:\n",
    "    start = time.time()  # start timer\n",
    "    t = total_times[frame]\n",
    "    print('t = %s' % t)\n",
    "    for i in range(8):\n",
    "        train_vb1[b_num*frame + size*i: size+b_num*frame+size*i, :], train_pb1[b_num*frame + size*i: size+b_num*frame+size*i, :] = get_data(train_b2[size*i: size+size*i, :], t)\n",
    "    train_xb1[b_num*frame: b_num+b_num*frame, 0:3] = train_b2\n",
    "    train_xb1[b_num*frame: b_num+b_num*frame, 3] = t\n"
   ]
  },
  {
   "cell_type": "code",
   "execution_count": 20,
   "metadata": {},
   "outputs": [
    {
     "name": "stdout",
     "output_type": "stream",
     "text": [
      "(442816, 3) (442816, 1) (442816, 4)\n"
     ]
    }
   ],
   "source": [
    "print(train_vb1.shape,train_pb1.shape,train_xb1.shape)\n",
    "np.save('train_xb2.npy',train_xb1)\n",
    "np.save('train_vb2.npy',train_vb1)\n",
    "np.save('train_pb2.npy',train_pb1)"
   ]
  },
  {
   "cell_type": "code",
   "execution_count": 62,
   "metadata": {},
   "outputs": [],
   "source": [
    "x0_train = train_ini1[:,0:1]\n",
    "y0_train = train_ini1[:,1:2]\n",
    "z0_train = train_ini1[:,2:3]\n",
    "t0_train = np.zeros(train_ini1[:,0:1].shape, np.float32)\n",
    "u0_train = train_iniv1[:,0:1]\n",
    "v0_train = train_iniv1[:,1:2]\n",
    "w0_train = train_iniv1[:,2:3]\n",
    "\n",
    "xb_train = train_xb1[:,0:1]\n",
    "yb_train = train_xb1[:,1:2]\n",
    "zb_train = train_xb1[:,2:3]\n",
    "tb_train = train_xb1[:,3:4]\n",
    "ub_train = train_vb1[:,0:1]\n",
    "vb_train = train_vb1[:,1:2]\n",
    "wb_train = train_vb1[:,2:3]\n",
    "\n",
    "x_train1 = xnode.reshape(-1,1)[np.random.choice(191, 100000, replace=True),:]\n",
    "y_train1 = ynode.reshape(-1,1)[np.random.choice(998, 100000, replace=True),:]\n",
    "z_train1 = znode.reshape(-1,1)[np.random.choice(211, 100000, replace=True),:] \n",
    "x_train = np.tile(x_train1,(17, 1)) \n",
    "y_train = np.tile(y_train1,(17, 1)) \n",
    "z_train = np.tile(z_train1,(17, 1)) \n",
    "\n",
    "total_times1 = np.array(list(range(17))) * 0.0065 \n",
    "t_train1 = total_times1.repeat(100000) \n",
    "t_train = t_train1.reshape(-1,1) "
   ]
  },
  {
   "cell_type": "code",
   "execution_count": null,
   "metadata": {},
   "outputs": [],
   "source": [
    "# Database Spatial Interpolation Options:\n",
    "# Interpolation options for GetVelocity, GetMagneticField, GetVectorPotential, GetPressure, GetVelocityAndPressure, GetDensity and GetPosition\n",
    "\n",
    "# NoSInt: No Space interpolation (value at the datapoint closest to each coordinate value)\n",
    "# Lag4: 4th-order Lagrange Polynomial interpolation along each spatial direction|\n",
    "# Lag6: 6th-order Lagrange Polynomial interpolation along each spatial direction\n",
    "# Lag8: 8th-order Lagrange Polynomial interpolation along each spatial direction\n",
    "# M1Q4: Splines with smoothness 1 (3rd order) over 4 data points.\n",
    "# M2Q8: Splines with smoothness 2 (5th order) over 8 data points.\n",
    "# M2Q14: Splines with smoothness 2 (5th order) over 14 data points."
   ]
  },
  {
   "cell_type": "code",
   "execution_count": 65,
   "metadata": {},
   "outputs": [
    {
     "name": "stdout",
     "output_type": "stream",
     "text": [
      "(147968, 1) (147968, 1) (147968, 1) (147968, 1) (147968, 1) (147968, 1) (147968, 1) (442816, 1) (442816, 1) (442816, 1) (442816, 1) (442816, 1) (442816, 1) (442816, 1) (1700000, 1) (1700000, 1) (1700000, 1) (1700000, 1)\n"
     ]
    }
   ],
   "source": [
    "print(x0_train.shape,y0_train.shape,\n",
    "      z0_train.shape,t0_train.shape,\n",
    "      u0_train.shape,v0_train.shape,\n",
    "      w0_train.shape,\n",
    "      xb_train.shape,yb_train.shape,\n",
    "      zb_train.shape,tb_train.shape,\n",
    "      ub_train.shape,vb_train.shape,\n",
    "      wb_train.shape,\n",
    "      x_train.shape, y_train.shape,\n",
    "      z_train.shape, t_train.shape)"
   ]
  },
  {
   "cell_type": "markdown",
   "metadata": {},
   "source": [
    "### Data for testing the result of NN"
   ]
  },
  {
   "cell_type": "code",
   "execution_count": 5,
   "metadata": {},
   "outputs": [],
   "source": [
    "idx_test = np.random.choice(points1.shape[0],3000,replace = False)\n",
    "test_l = points1[idx_test, :] # test points locations\n",
    "#choose several different time step\n",
    "\n",
    "test_v1, test_p1 = get_data(test_l, 0.0065)\n",
    "test_v2, test_p2 = get_data(test_l, 4 * 0.0065)\n",
    "test_v3, test_p3 = get_data(test_l, 7 * 0.0065)\n",
    "test_v4, test_p4 = get_data(test_l, 10 * 0.0065)\n",
    "test_v5, test_p5 = get_data(test_l, 13 * 0.0065)\n",
    "\n",
    "test_v = np.concatenate((test_v1, test_v2, test_v3, test_v4, test_v5), 0)\n",
    "test_p = np.concatenate((test_p1, test_p2, test_p3, test_p4, test_p5), 0)\n",
    "\n",
    "test43 = np.concatenate((test_v, test_p), 1)\n",
    "\n",
    "np.save('test43_l.npy', test_l)\n",
    "np.save('test43_vp.npy', test43)"
   ]
  },
  {
   "cell_type": "code",
   "execution_count": 6,
   "metadata": {},
   "outputs": [
    {
     "data": {
      "text/plain": [
       "(15000, 4)"
      ]
     },
     "execution_count": 6,
     "metadata": {},
     "output_type": "execute_result"
    }
   ],
   "source": []
  },
  {
   "cell_type": "code",
   "execution_count": null,
   "metadata": {},
   "outputs": [],
   "source": []
  },
  {
   "cell_type": "code",
   "execution_count": null,
   "metadata": {},
   "outputs": [],
   "source": []
  }
 ],
 "metadata": {
  "kernelspec": {
   "display_name": "Python 3",
   "language": "python",
   "name": "python3"
  },
  "language_info": {
   "codemirror_mode": {
    "name": "ipython",
    "version": 3
   },
   "file_extension": ".py",
   "mimetype": "text/x-python",
   "name": "python",
   "nbconvert_exporter": "python",
   "pygments_lexer": "ipython3",
   "version": "3.7.1"
  }
 },
 "nbformat": 4,
 "nbformat_minor": 2
}
