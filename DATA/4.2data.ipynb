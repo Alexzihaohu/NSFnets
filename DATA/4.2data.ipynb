{
 "cells": [
  {
   "cell_type": "code",
   "execution_count": 16,
   "metadata": {},
   "outputs": [],
   "source": [
    "import pyJHTDB\n",
    "import pyJHTDB.dbinfo\n",
    "import numpy as np\n",
    "import matplotlib.pyplot as plt\n",
    "import time"
   ]
  },
  {
   "cell_type": "markdown",
   "metadata": {},
   "source": [
    "## Train dataset\n",
    "### Get velocity and pressure"
   ]
  },
  {
   "cell_type": "code",
   "execution_count": 17,
   "metadata": {},
   "outputs": [],
   "source": [
    "def get_data(point_coords, time):\n",
    "    \"\"\"\n",
    "    Get velocity and pressure at specified spatial points and a specified time in channel flow database.\n",
    "    :param point_coords: Spatial coordinates of the data points of interest. Must be in single precision.\n",
    "    :param time: Time of interest.\n",
    "    :return: Velocity and velocity gradient arrays.\n",
    "    \"\"\"\n",
    "\n",
    "    # Create library object\n",
    "    lJHTDB = pyJHTDB.libJHTDB()\n",
    "\n",
    "    # Initialize library object\n",
    "    lJHTDB.initialize()\n",
    "\n",
    "    # Get velocity\n",
    "    u = lJHTDB.getData(time, point_coords,\n",
    "                       sinterp='Lag4',\n",
    "                       data_set='channel',\n",
    "                       getFunction='getVelocity')\n",
    "\n",
    "    # Get velocity gradient\n",
    "    p = lJHTDB.getData(time, point_coords,\n",
    "                            sinterp='Lag4',\n",
    "                            data_set='channel',\n",
    "                            getFunction='getPressure')\n",
    "\n",
    "    # Finalize library object\n",
    "    lJHTDB.finalize()\n",
    "\n",
    "    return u, p"
   ]
  },
  {
   "cell_type": "code",
   "execution_count": 3,
   "metadata": {},
   "outputs": [],
   "source": [
    "xnode = np.linspace(12.47,12.66,191)\n",
    "ynode = np.linspace(-0.9,-0.7,201)\n",
    "znode = np.linspace(4.61,4.82,211)\n",
    "total_times = np.array(list(range(4000)), dtype = np.float32) * 0.0065\n",
    "frames1 = np.arange(81)\n",
    "frames2 = np.arange(129)\n",
    "\n",
    "points = np.zeros((191, 201, 211, 3), np.float32)\n",
    "points[:, :, :, 0] = xnode[:, None, None]\n",
    "points[:, :, :, 1] = ynode[None, :, None]\n",
    "points[:, :, :, 2] = znode[None, None, :]\n"
   ]
  },
  {
   "cell_type": "code",
   "execution_count": 18,
   "metadata": {},
   "outputs": [],
   "source": [
    "points1 = points.reshape(-1,3)"
   ]
  },
  {
   "cell_type": "markdown",
   "metadata": {},
   "source": [
    "### Initial condition (t=0)"
   ]
  },
  {
   "cell_type": "code",
   "execution_count": 53,
   "metadata": {},
   "outputs": [],
   "source": [
    "idx_ini = np.random.choice(points1.shape[0], 33524, replace = False)"
   ]
  },
  {
   "cell_type": "code",
   "execution_count": 54,
   "metadata": {},
   "outputs": [],
   "source": [
    "train_ini1 = points1[idx_ini, :]\n",
    "train_iniv1 = np.zeros((33524, 3), np.float32)\n",
    "train_inip1 = np.zeros((33524, 1), np.float32)"
   ]
  },
  {
   "cell_type": "code",
   "execution_count": 55,
   "metadata": {},
   "outputs": [
    {
     "name": "stdout",
     "output_type": "stream",
     "text": [
      "Elapsed time = 1.10 seconds\n",
      "Elapsed time = 1.48 seconds\n",
      "Elapsed time = 1.37 seconds\n",
      "Elapsed time = 1.33 seconds\n",
      "Elapsed time = 1.97 seconds\n",
      "Elapsed time = 1.36 seconds\n",
      "Elapsed time = 1.46 seconds\n",
      "Elapsed time = 1.68 seconds\n",
      "Elapsed time = 2.16 seconds\n",
      "Elapsed time = 0.58 seconds\n",
      "Elapsed time = 0.42 seconds\n",
      "Elapsed time = 0.41 seconds\n",
      "Elapsed time = 0.43 seconds\n",
      "Elapsed time = 0.44 seconds\n",
      "Elapsed time = 0.40 seconds\n",
      "Elapsed time = 0.39 seconds\n",
      "Elapsed time = 0.93 seconds\n",
      "(33524, 3) (33524, 1)\n"
     ]
    }
   ],
   "source": [
    "size = int(33524 / 17)\n",
    "for i in range(17):\n",
    "    \n",
    "    start = time.time()  # start timer\n",
    "\n",
    "    train_iniv1[0 + size * i: size + size * i, :], train_inip1[0 + size * i: size + size * i, :] = get_data(train_ini1[0 + size * i: size + size * i, :], 0)\n",
    "\n",
    "    elapsed = time.time() - start  # end timer\n",
    "    print('Elapsed time = %.2f seconds' % elapsed)\n",
    "\n",
    "print(train_iniv1.shape, train_inip1.shape)"
   ]
  },
  {
   "cell_type": "code",
   "execution_count": 56,
   "metadata": {},
   "outputs": [],
   "source": [
    "np.save('train_ini1.npy',train_ini1)\n",
    "np.save('train_iniv1.npy',train_iniv1)\n",
    "np.save('train_inip1.npy',train_inip1)"
   ]
  },
  {
   "cell_type": "markdown",
   "metadata": {},
   "source": [
    "### the boundary condition"
   ]
  },
  {
   "cell_type": "code",
   "execution_count": 57,
   "metadata": {},
   "outputs": [
    {
     "name": "stdout",
     "output_type": "stream",
     "text": [
      "(42411, 3) (42411, 3) (40301, 3) (40301, 3) (38391, 3) (38391, 3)\n"
     ]
    }
   ],
   "source": [
    "points2 = points1[:, :][points1[:,0] == 12.47]\n",
    "points3 = points1[:, :][points1[:,0] == 12.66]\n",
    "points4 = points1[:, :][points1[:,1] == -0.9]\n",
    "points5 = points1[:, :][points1[:,1] == -0.7]\n",
    "points6 = points1[:, :][points1[:,2] == 4.61]\n",
    "points7 = points1[:, :][points1[:,2] == 4.82]\n",
    "print(points2.shape, points3.shape, points4.shape, points5.shape, points6.shape, points7.shape)"
   ]
  },
  {
   "cell_type": "code",
   "execution_count": 58,
   "metadata": {},
   "outputs": [
    {
     "data": {
      "text/plain": [
       "(242206, 3)"
      ]
     },
     "execution_count": 58,
     "metadata": {},
     "output_type": "execute_result"
    }
   ],
   "source": [
    "train_b1 = np.concatenate([points2, points3, points4, points5, points6, points7],0)\n",
    "train_b1.shape"
   ]
  },
  {
   "cell_type": "code",
   "execution_count": 59,
   "metadata": {},
   "outputs": [],
   "source": [
    "idxb = np.random.choice(train_b1.shape[0], 6644, replace=False)"
   ]
  },
  {
   "cell_type": "code",
   "execution_count": 60,
   "metadata": {},
   "outputs": [
    {
     "data": {
      "text/plain": [
       "(6644, 3)"
      ]
     },
     "execution_count": 60,
     "metadata": {},
     "output_type": "execute_result"
    }
   ],
   "source": [
    "train_b2 = train_b1[idxb,:]\n",
    "train_b2.shape"
   ]
  },
  {
   "cell_type": "code",
   "execution_count": 61,
   "metadata": {},
   "outputs": [],
   "source": [
    "train_xb1 = np.zeros((6644*129, 4), np.float32)\n",
    "train_vb1 = np.zeros((6644*129, 3), np.float32)\n",
    "train_pb1 = np.zeros((6644*129, 1), np.float32)"
   ]
  },
  {
   "cell_type": "code",
   "execution_count": 62,
   "metadata": {},
   "outputs": [
    {
     "name": "stdout",
     "output_type": "stream",
     "text": [
      "0\n",
      "1\n",
      "2\n",
      "3\n",
      "4\n",
      "5\n",
      "6\n",
      "7\n",
      "8\n",
      "9\n",
      "10\n",
      "11\n",
      "12\n",
      "13\n",
      "14\n",
      "15\n",
      "16\n",
      "17\n",
      "18\n",
      "19\n",
      "20\n",
      "21\n",
      "22\n",
      "23\n",
      "24\n",
      "25\n",
      "26\n",
      "27\n",
      "28\n",
      "29\n",
      "30\n",
      "31\n",
      "32\n",
      "33\n",
      "34\n",
      "35\n",
      "36\n",
      "37\n",
      "38\n",
      "39\n",
      "40\n",
      "41\n",
      "42\n",
      "43\n",
      "44\n",
      "45\n",
      "46\n",
      "47\n",
      "48\n",
      "49\n",
      "50\n",
      "51\n",
      "52\n",
      "53\n",
      "54\n",
      "55\n",
      "56\n",
      "57\n",
      "58\n",
      "59\n",
      "60\n",
      "61\n",
      "62\n",
      "63\n",
      "64\n",
      "65\n",
      "66\n",
      "67\n",
      "68\n",
      "69\n",
      "70\n",
      "71\n",
      "72\n",
      "73\n",
      "74\n",
      "75\n",
      "76\n",
      "77\n",
      "78\n",
      "79\n",
      "80\n",
      "81\n",
      "82\n",
      "83\n",
      "84\n",
      "85\n",
      "86\n",
      "87\n",
      "88\n",
      "89\n",
      "90\n",
      "91\n",
      "92\n",
      "93\n",
      "94\n",
      "95\n",
      "96\n",
      "97\n",
      "98\n",
      "99\n",
      "100\n",
      "101\n",
      "102\n",
      "103\n",
      "104\n",
      "105\n",
      "106\n",
      "107\n",
      "108\n",
      "109\n",
      "110\n",
      "111\n",
      "112\n",
      "113\n",
      "114\n",
      "115\n",
      "116\n",
      "117\n",
      "118\n",
      "119\n",
      "120\n",
      "121\n",
      "122\n",
      "123\n",
      "124\n",
      "125\n",
      "126\n",
      "127\n",
      "128\n"
     ]
    }
   ],
   "source": [
    "frames = np.arange(129)\n",
    "# Get data\n",
    "for frame in frames:\n",
    "    print(frame)\n",
    "    for i in range(2):\n",
    "        train_vb1[6644*frame + 3322*i: 3322+6644*frame+3322*i, :], train_pb1[6644*frame + 3322*i: 3322+6644*frame+3322*i, :] = get_data(train_b2[3322*i: 3322+3322*i, :], t)\n",
    "    train_xb1[6644*frame: 6644+6644*frame, 0:3] = train_b2\n",
    "    train_xb1[6644*frame: 6644+6644*frame, 3] = t"
   ]
  },
  {
   "cell_type": "code",
   "execution_count": 21,
   "metadata": {},
   "outputs": [],
   "source": [
    "np.save('train_xb1.npy',train_xb1)\n",
    "np.save('train_vb1.npy',train_vb1)\n",
    "np.save('train_pb1.npy',train_pb1)"
   ]
  },
  {
   "cell_type": "code",
   "execution_count": 63,
   "metadata": {},
   "outputs": [],
   "source": [
    "x0_train = train_ini1[:,0:1]\n",
    "y0_train = train_ini1[:,1:2]\n",
    "z0_train = train_ini1[:,2:3]\n",
    "t0_train = np.zeros(train_ini1[:,0:1].shape, np.float32)\n",
    "u0_train = train_iniv1[:,0:1]\n",
    "v0_train = train_iniv1[:,1:2]\n",
    "w0_train = train_iniv1[:,2:3]\n",
    "\n",
    "xb_train = train_xb1[:,0:1]\n",
    "yb_train = train_xb1[:,1:2]\n",
    "zb_train = train_xb1[:,2:3]\n",
    "tb_train = train_xb1[:,3:4]\n",
    "ub_train = train_vb1[:,0:1]\n",
    "vb_train = train_vb1[:,1:2]\n",
    "wb_train = train_vb1[:,2:3]\n",
    "\n",
    "x_train1 = xnode.reshape(-1,1)[np.random.choice(191, 20000, replace=True),:]\n",
    "y_train1 = ynode.reshape(-1,1)[np.random.choice(201, 20000, replace=True),:]\n",
    "z_train1 = znode.reshape(-1,1)[np.random.choice(211, 20000, replace=True),:] \n",
    "x_train = np.tile(x_train1,(129, 1)) \n",
    "y_train = np.tile(y_train1,(129, 1)) \n",
    "z_train = np.tile(z_train1,(129, 1)) \n",
    "\n",
    "total_times1 = np.array(list(range(129))) * 0.0065 \n",
    "t_train1 = total_times1.repeat(20000) \n",
    "t_train = t_train1.reshape(-1,1) "
   ]
  },
  {
   "cell_type": "code",
   "execution_count": 65,
   "metadata": {},
   "outputs": [
    {
     "name": "stdout",
     "output_type": "stream",
     "text": [
      "(33524, 1) (33524, 1) (33524, 1) (33524, 1) (33524, 1) (33524, 1) (33524, 1) (857076, 1) (857076, 1) (857076, 1) (857076, 1) (857076, 1) (857076, 1) (857076, 1) (2580000, 1) (2580000, 1) (2580000, 1) (2580000, 1)\n"
     ]
    }
   ],
   "source": [
    "print(x0_train.shape,y0_train.shape,\n",
    "      z0_train.shape,t0_train.shape,\n",
    "      u0_train.shape,v0_train.shape,\n",
    "      w0_train.shape,\n",
    "      xb_train.shape,yb_train.shape,\n",
    "      zb_train.shape,tb_train.shape,\n",
    "      ub_train.shape,vb_train.shape,\n",
    "      wb_train.shape,\n",
    "      x_train.shape, y_train.shape,\n",
    "      z_train.shape, t_train.shape)"
   ]
  },
  {
   "cell_type": "markdown",
   "metadata": {},
   "source": [
    "## Test dataset "
   ]
  },
  {
   "cell_type": "code",
   "execution_count": 50,
   "metadata": {},
   "outputs": [],
   "source": [
    "idx_test = np.random.choice(points1.shape[0],1000,replace = False)\n",
    "test_l = points1[idx_test, :] # test points locations\n",
    "#choose several different time step\n",
    "\n",
    "test_v1, test_p1 = get_data(test_l, 0.0065)\n",
    "test_v2, test_p2 = get_data(test_l, 31 * 0.0065)\n",
    "test_v3, test_p3 = get_data(test_l, 61 * 0.0065)\n",
    "test_v4, test_p4 = get_data(test_l, 91 * 0.0065)\n",
    "test_v5, test_p5 = get_data(test_l, 121 * 0.0065)\n",
    "\n",
    "test_v = np.concatenate((test_v1, test_v2, test_v3, test_v4, test_v5), 0)\n",
    "test_p = np.concatenate((test_p1, test_p2, test_p3, test_p4, test_p5), 0)\n",
    "\n",
    "test42 = np.concatenate((test_v, test_p), 1)\n",
    "\n",
    "np.save('test42_l.npy', test_l)\n",
    "np.save('test42_vp.npy', test42)"
   ]
  },
  {
   "cell_type": "code",
   "execution_count": null,
   "metadata": {},
   "outputs": [],
   "source": []
  }
 ],
 "metadata": {
  "kernelspec": {
   "display_name": "Python 3",
   "language": "python",
   "name": "python3"
  },
  "language_info": {
   "codemirror_mode": {
    "name": "ipython",
    "version": 3
   },
   "file_extension": ".py",
   "mimetype": "text/x-python",
   "name": "python",
   "nbconvert_exporter": "python",
   "pygments_lexer": "ipython3",
   "version": "3.7.1"
  }
 },
 "nbformat": 4,
 "nbformat_minor": 2
}
